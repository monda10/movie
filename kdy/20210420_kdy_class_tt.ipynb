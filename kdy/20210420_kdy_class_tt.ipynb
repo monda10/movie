{
 "cells": [
  {
   "cell_type": "code",
   "execution_count": 15,
   "metadata": {},
   "outputs": [
    {
     "name": "stdout",
     "output_type": "stream",
     "text": [
      "[4, 2, 2, 1, 0, 0, 0, 1, 0, 0]\n",
      "[4, 4, 3, 0, 0, 0, 2, 1, 0, 0]\n"
     ]
    }
   ],
   "source": [
    "\n",
    "#-----------------------------------------------------------------------------\n",
    "# csv 파일 로드\n",
    "import csv\n",
    "\n",
    "\n",
    "\n",
    "class CsvDATA: # csv 파일 로드 \n",
    "    def __init__(self,fname):\n",
    "        self.lists=[]\n",
    "        file=open(fname,encoding='cp949') # 변수명=open(파일 경로,encoding 작업)\n",
    "        getline = csv.reader(file)\n",
    "        line_count=0\n",
    "        for i in getline:\n",
    "            if line_count>5:\n",
    "                self.lists.append(i)\n",
    "            line_count+=1\n",
    "        file.close()\n",
    "\n",
    "    def Counts_Genre(self,list_input,genre_list):\n",
    "        count_list=[]\n",
    "        for genre in genre_list:\n",
    "            count_list.append(0) # Genre_list의 요소 수 만큼 카운트 리스트를 생성하고 각 값을 0으로 준다 \n",
    "    \n",
    "        for i in list_input:\n",
    "            for idx,name_input in enumerate(genre_list): #enumerate 를 이용하여 요소 인덱스 값에 접근 \n",
    "                if name_input in i[11]:\n",
    "                    count_list[idx]+=1 #위에서 생성한 카운트리스트의 인덱스 요소마다 카운트 상승 \n",
    "        return count_list\n",
    "    \n",
    "    def GetYearList(self,years_list):\n",
    "        Data_list_years=[]\n",
    "        for year in years_list:\n",
    "            Data_list_years.append([]) # years_list에 입력된 리스트를 적용 ([])\n",
    "\n",
    "        datas=self.lists.copy() # CSVDATA에서 불러온 원본데이터 복사 \n",
    "        for data in datas: \n",
    "            for idx,year in enumerate(years_list): \n",
    "                if year in data[2]:\n",
    "                    Data_list_years[idx].append(data)\n",
    "        return Data_list_years\n",
    "\n",
    "dataA3 = CsvDATA('Data_List_A3.csv')\n",
    "get_years_data=dataA3.GetYearList(['2011','2012','2013','2014','2015','2016','2017','2018','2019'])\n",
    "# print(get_years_data[0])\n",
    "\n",
    "\n",
    "Genre_List=['액션','드라마','코미디','어린이','SF','모험','스릴러','판타지','뮤지컬','전쟁']\n",
    "genreCount2018=dataA3.Counts_Genre(get_years_data[0],Genre_List)\n",
    "print(genreCount2018)\n",
    "genreCount2019=dataA3.Counts_Genre(get_years_data[1],Genre_List)\n",
    "print(genreCount2019)"
   ]
  },
  {
   "cell_type": "code",
   "execution_count": null,
   "metadata": {},
   "outputs": [],
   "source": []
  }
 ],
 "metadata": {
  "kernelspec": {
   "display_name": "Python 3",
   "language": "python",
   "name": "python3"
  },
  "language_info": {
   "codemirror_mode": {
    "name": "ipython",
    "version": 3
   },
   "file_extension": ".py",
   "mimetype": "text/x-python",
   "name": "python",
   "nbconvert_exporter": "python",
   "pygments_lexer": "ipython3",
   "version": "3.8.5"
  }
 },
 "nbformat": 4,
 "nbformat_minor": 4
}
