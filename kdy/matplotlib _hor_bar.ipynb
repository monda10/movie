{
 "cells": [
  {
   "cell_type": "code",
   "execution_count": 4,
   "metadata": {},
   "outputs": [
    {
     "data": {
      "image/png": "[encoded data removed]",
      "text/plain": [
       "<Figure size 504x360 with 1 Axes>"
      ]
     },
     "metadata": {
      "needs_background": "light"
     },
     "output_type": "display_data"
    }
   ],
   "source": [
    "import matplotlib.pyplot as plt\n",
    "import numpy as np\n",
    "\n",
    "def main():\n",
    "\t#### 1. bar plot으로 나타낼 데이터 입력\n",
    "\tmodels = ['model A', 'model B', 'model C', 'model D']\n",
    "\tyticks = ['Breast', 'Liver', 'Brain']\n",
    "\tdata = {'model A':[6500, 7100, 6900],\n",
    "\t        'model B':[6100, 6500, 6400],\n",
    "\t\t\t'model C':[5500, 6600, 6000],\n",
    "\t\t\t'model D':[6000, 6200, 5700]}\n",
    "\t\n",
    "\t#### 2. matplotlib의 figure 및 axis 설정\n",
    "\tfig, ax = plt.subplots(1,1,figsize=(7,5)) # 1x1 figure matrix 생성, 가로(7인치)x세로(5인치) 크기지정\n",
    "\tcolors = ['salmon', 'orange', 'cadetblue', 'skyblue']\n",
    "\theight = 0.15\n",
    "\t\n",
    "\t#### 3. bar 그리기\n",
    "\tfor i, model in enumerate(models):\n",
    "\t\tpos = compute_pos(yticks, height, i, models)\n",
    "\t\tbar = ax.barh(pos, data[model], height=height*0.95, label=model, color=colors[i])\n",
    "\t\tpresent_width(ax, bar) # bar너비 출력\n",
    "\t\n",
    "\t#### 4. x축 세부설정\n",
    "\tax.set_xlim([0.5,0.76])\n",
    "\tax.set_xticks([0, 2000, 4000, 6000, 8000, 100000])\n",
    "\tax.xaxis.set_tick_params(labelsize=10)\n",
    "\tax.set_xlabel('Prediction Accuracy', fontsize=14)\n",
    "\t\n",
    "\t#### 5. y축 세부설정\n",
    "\tax.set_yticks(range(len(yticks)))\n",
    "\tax.set_yticklabels(yticks, fontsize=10)\t\n",
    "\tax.set_ylabel('Cancer type', fontsize=14)\n",
    "\t\n",
    "\t#### 6. 범례 나타내기\n",
    "\tbox = ax.get_position() # 범례를 그래프상자 밖에 그리기위해 상자크기를 조절\n",
    "\tax.set_position([box.x0, box.y0, box.width * 0.9, box.height])\n",
    "\tax.legend(loc='center left', bbox_to_anchor=(1,0.5), shadow=True, ncol=1)\n",
    "\t\n",
    "\t#### 7. 보조선(눈금선) 나타내기\n",
    "\tax.set_axisbelow(True)\n",
    "\tax.xaxis.grid(True, color='gray', linestyle='dashed', linewidth=0.5)\n",
    "\t\n",
    "\t#### 8. 그래프 저장하고 출력하기\n",
    "\tplt.savefig('ex_barhplot.png', format='png', dpi=300)\n",
    "\tplt.show()\n",
    "\t\n",
    "def compute_pos(yticks, height, i, models):\n",
    "\tindex = np.arange(len(yticks))\n",
    "\tn = len(models)\n",
    "\tcorrection = i - 0.5*(n-1)\n",
    "\treturn index + height * correction\n",
    "\n",
    "def present_width(ax, bar):\n",
    "\tfor rect in bar:\n",
    "\t\twitdh = rect.get_width()\n",
    "\t\tposx = witdh*1.01\n",
    "\t\tposy = rect.get_y()+rect.get_height()*0.5\n",
    "\t\tax.text(posx, posy, '%d' % witdh, rotation=0, ha='left', va='center')\n",
    "\t\t\n",
    "if __name__=='__main__':\n",
    "\tmain()"
   ]
  },
  {
   "cell_type": "code",
   "execution_count": null,
   "metadata": {},
   "outputs": [],
   "source": []
  }
 ],
 "metadata": {
  "kernelspec": {
   "display_name": "Python 3",
   "language": "python",
   "name": "python3"
  },
  "language_info": {
   "codemirror_mode": {
    "name": "ipython",
    "version": 3
   },
   "file_extension": ".py",
   "mimetype": "text/x-python",
   "name": "python",
   "nbconvert_exporter": "python",
   "pygments_lexer": "ipython3",
   "version": "3.8.5"
  }
 },
 "nbformat": 4,
 "nbformat_minor": 4
}
