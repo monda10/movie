{
 "cells": [
  {
   "cell_type": "code",
   "execution_count": 61,
   "metadata": {},
   "outputs": [
    {
     "ename": "SyntaxError",
     "evalue": "invalid syntax (<ipython-input-61-48dfe23103dd>, line 29)",
     "output_type": "error",
     "traceback": [
      "\u001b[1;36m  File \u001b[1;32m\"<ipython-input-61-48dfe23103dd>\"\u001b[1;36m, line \u001b[1;32m29\u001b[0m\n\u001b[1;33m    if '2019' in data\u001b[0m\n\u001b[1;37m                     ^\u001b[0m\n\u001b[1;31mSyntaxError\u001b[0m\u001b[1;31m:\u001b[0m invalid syntax\n"
     ]
    }
   ],
   "source": [
    "\n",
    "#-----------------------------------------------------------------------------\n",
    "# csv 파일 로드\n",
    "import csv\n",
    "file=open('Data_List_A3.csv',encoding='cp949') # 변수명=open(파일 경로,encoding 작업)\n",
    "data = csv.reader(file)\n",
    "header=next(data)\n",
    "#-----------------------------------\n",
    "\n",
    "Data_list_2011=[]\n",
    "Data_list_2012=[]\n",
    "Data_list_2013=[]\n",
    "Data_list_2014=[]\n",
    "Data_list_2015=[]\n",
    "Data_list_2016=[]\n",
    "Data_list_2017=[]\n",
    "Data_list_2018=[]\n",
    "Data_list_2019=[]\n",
    "Data_list_2020=[]\n",
    "\n",
    "for i in data:\n",
    "    if '2011' in i[2]:\n",
    "        Data_list_2011.append(i)\n",
    "    if '2012' in i[2]:\n",
    "        Data_list_2012.append(i)\n",
    "    if '2013' in i[2]:\n",
    "        Data_list_2013.append(i)\n",
    "    if '2014' in i[2]:\n",
    "        Data_list_2014.append(i)\n",
    "    if '2015' in i[2]:\n",
    "        Data_list_2015.append(i)\n",
    "    if '2016' in i[2]:\n",
    "        Data_list_2016.append(i)\n",
    "    if '2017' in i[2]:\n",
    "        Data_list_2017.append(i)\n",
    "    if '2018' in i[2]:\n",
    "        Data_list_2018.append(i)\n",
    "    if '2019' in i[2]:\n",
    "        Data_list_2019.append(i)\n",
    "    if '2020' in i[2]:\n",
    "        Data_list_2020.append(i)\n",
    "    \n",
    "class List_Count:\n",
    "   \n",
    "    def Counts_Genre(self,list_input,name_input_list):\n",
    "        count=0\n",
    "        for i in list_input:\n",
    "            for name_input in name_input_list:\n",
    "                if name_input in i[11]:\n",
    "                    count+=1\n",
    "        return count\n",
    "\n",
    "Genre_List=['액션','드라마','코미디']\n",
    "\n",
    "Genre=List_Count()\n",
    "\n",
    "Action=Genre.Counts_Genre(Data_list_001,['액션'])\n",
    "Drama=Genre.Counts_Genre(Data_list_001,['드라마'])\n",
    "\n",
    "print(Action)\n",
    "\n",
    "\n",
    "\n",
    "\n",
    "\n",
    "\n",
    "\n",
    "#print(Data_list_001)\n",
    "# print(Data_list_002)\n",
    "\n",
    "file.close()\n",
    "#----------------------------------------------------------------\n",
    "# 11번 장르\n",
    "\n"
   ]
  },
  {
   "cell_type": "code",
   "execution_count": null,
   "metadata": {},
   "outputs": [],
   "source": []
  }
 ],
 "metadata": {
  "kernelspec": {
   "display_name": "Python 3",
   "language": "python",
   "name": "python3"
  },
  "language_info": {
   "codemirror_mode": {
    "name": "ipython",
    "version": 3
   },
   "file_extension": ".py",
   "mimetype": "text/x-python",
   "name": "python",
   "nbconvert_exporter": "python",
   "pygments_lexer": "ipython3",
   "version": "3.8.5"
  }
 },
 "nbformat": 4,
 "nbformat_minor": 4
}
