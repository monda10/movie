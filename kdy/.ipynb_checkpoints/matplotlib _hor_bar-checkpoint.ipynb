{
 "cells": [
  {
   "cell_type": "code",
   "execution_count": 1,
   "metadata": {},
   "outputs": [
    {
     "ename": "NameError",
     "evalue": "name 'plt' is not defined",
     "output_type": "error",
     "traceback": [
      "\u001b[1;31m---------------------------------------------------------------------------\u001b[0m",
      "\u001b[1;31mNameError\u001b[0m                                 Traceback (most recent call last)",
      "\u001b[1;32m<ipython-input-1-f778c99d17d1>\u001b[0m in \u001b[0;36m<module>\u001b[1;34m\u001b[0m\n\u001b[0;32m     57\u001b[0m \u001b[1;33m\u001b[0m\u001b[0m\n\u001b[0;32m     58\u001b[0m \u001b[1;32mif\u001b[0m \u001b[0m__name__\u001b[0m\u001b[1;33m==\u001b[0m\u001b[1;34m'__main__'\u001b[0m\u001b[1;33m:\u001b[0m\u001b[1;33m\u001b[0m\u001b[1;33m\u001b[0m\u001b[0m\n\u001b[1;32m---> 59\u001b[1;33m         \u001b[0mmain\u001b[0m\u001b[1;33m(\u001b[0m\u001b[1;33m)\u001b[0m\u001b[1;33m\u001b[0m\u001b[1;33m\u001b[0m\u001b[0m\n\u001b[0m",
      "\u001b[1;32m<ipython-input-1-f778c99d17d1>\u001b[0m in \u001b[0;36mmain\u001b[1;34m()\u001b[0m\n\u001b[0;32m      9\u001b[0m \u001b[1;33m\u001b[0m\u001b[0m\n\u001b[0;32m     10\u001b[0m         \u001b[1;31m#### 2. matplotlib의 figure 및 axis 설정\u001b[0m\u001b[1;33m\u001b[0m\u001b[1;33m\u001b[0m\u001b[1;33m\u001b[0m\u001b[0m\n\u001b[1;32m---> 11\u001b[1;33m         \u001b[0mfig\u001b[0m\u001b[1;33m,\u001b[0m \u001b[0max\u001b[0m \u001b[1;33m=\u001b[0m \u001b[0mplt\u001b[0m\u001b[1;33m.\u001b[0m\u001b[0msubplots\u001b[0m\u001b[1;33m(\u001b[0m\u001b[1;36m1\u001b[0m\u001b[1;33m,\u001b[0m\u001b[1;36m1\u001b[0m\u001b[1;33m,\u001b[0m\u001b[0mfigsize\u001b[0m\u001b[1;33m=\u001b[0m\u001b[1;33m(\u001b[0m\u001b[1;36m7\u001b[0m\u001b[1;33m,\u001b[0m\u001b[1;36m5\u001b[0m\u001b[1;33m)\u001b[0m\u001b[1;33m)\u001b[0m \u001b[1;31m# 1x1 figure matrix 생성, 가로(7인치)x세로(5인치) 크기지정\u001b[0m\u001b[1;33m\u001b[0m\u001b[1;33m\u001b[0m\u001b[0m\n\u001b[0m\u001b[0;32m     12\u001b[0m         \u001b[0mcolors\u001b[0m \u001b[1;33m=\u001b[0m \u001b[1;33m[\u001b[0m\u001b[1;34m'salmon'\u001b[0m\u001b[1;33m,\u001b[0m \u001b[1;34m'orange'\u001b[0m\u001b[1;33m,\u001b[0m \u001b[1;34m'cadetblue'\u001b[0m\u001b[1;33m,\u001b[0m \u001b[1;34m'skyblue'\u001b[0m\u001b[1;33m]\u001b[0m\u001b[1;33m\u001b[0m\u001b[1;33m\u001b[0m\u001b[0m\n\u001b[0;32m     13\u001b[0m         \u001b[0mheight\u001b[0m \u001b[1;33m=\u001b[0m \u001b[1;36m0.15\u001b[0m\u001b[1;33m\u001b[0m\u001b[1;33m\u001b[0m\u001b[0m\n",
      "\u001b[1;31mNameError\u001b[0m: name 'plt' is not defined"
     ]
    }
   ],
   "source": [
    "import matplotlib.pyplot as plt\n",
    "import numpy as np\n",
    "\n",
    "def main():\n",
    "\t#### 1. bar plot으로 나타낼 데이터 입력\n",
    "\tmodels = ['model A', 'model B', 'model C', 'model D']\n",
    "\tyticks = ['Breast', 'Liver', 'Brain']\n",
    "\tdata = {'model A':[0.65, 0.71, 0.69],\n",
    "\t        'model B':[0.61, 0.65, 0.64],\n",
    "\t\t\t'model C':[0.55, 0.66, 0.60],\n",
    "\t\t\t'model D':[0.60, 0.62, 0.57]}\n",
    "\t\n",
    "\t#### 2. matplotlib의 figure 및 axis 설정\n",
    "\tfig, ax = plt.subplots(1,1,figsize=(7,5)) # 1x1 figure matrix 생성, 가로(7인치)x세로(5인치) 크기지정\n",
    "\tcolors = ['salmon', 'orange', 'cadetblue', 'skyblue']\n",
    "\theight = 0.15\n",
    "\t\n",
    "\t#### 3. bar 그리기\n",
    "\tfor i, model in enumerate(models):\n",
    "\t\tpos = compute_pos(yticks, height, i, models)\n",
    "\t\tbar = ax.barh(pos, data[model], height=height*0.95, label=model, color=colors[i])\n",
    "\t\tpresent_width(ax, bar) # bar너비 출력\n",
    "\t\n",
    "\t#### 4. x축 세부설정\n",
    "\tax.set_xlim([0.5,0.76])\n",
    "\tax.set_xticks([0.5, 0.55, 0.6, 0.65, 0.7, 0.75])\n",
    "\tax.xaxis.set_tick_params(labelsize=10)\n",
    "\tax.set_xlabel('Prediction Accuracy', fontsize=14)\n",
    "\t\n",
    "\t#### 5. y축 세부설정\n",
    "\tax.set_yticks(range(len(yticks)))\n",
    "\tax.set_yticklabels(yticks, fontsize=10)\t\n",
    "\tax.set_ylabel('Cancer type', fontsize=14)\n",
    "\t\n",
    "\t#### 6. 범례 나타내기\n",
    "\tbox = ax.get_position() # 범례를 그래프상자 밖에 그리기위해 상자크기를 조절\n",
    "\tax.set_position([box.x0, box.y0, box.width * 0.9, box.height])\n",
    "\tax.legend(loc='center left', bbox_to_anchor=(1,0.5), shadow=True, ncol=1)\n",
    "\t\n",
    "\t#### 7. 보조선(눈금선) 나타내기\n",
    "\tax.set_axisbelow(True)\n",
    "\tax.xaxis.grid(True, color='gray', linestyle='dashed', linewidth=0.5)\n",
    "\t\n",
    "\t#### 8. 그래프 저장하고 출력하기\n",
    "\tplt.savefig('ex_barhplot.png', format='png', dpi=300)\n",
    "\tplt.show()\n",
    "\t\n",
    "# def compute_pos(yticks, height, i, models):\n",
    "# \tindex = np.arange(len(yticks))\n",
    "# \tn = len(models)\n",
    "# \tcorrection = i - 0.5*(n-1)\n",
    "# \treturn index + height * correction\n",
    "\n",
    "# def present_width(ax, bar):\n",
    "# \tfor rect in bar:\n",
    "# \t\twitdh = rect.get_width()\n",
    "# \t\tposx = witdh*1.01\n",
    "# \t\tposy = rect.get_y()+rect.get_height()*0.5\n",
    "# \t\tax.text(posx, posy, '%.3f' % witdh, rotation=0, ha='left', va='center')\n",
    "\t\t\n",
    "if __name__=='__main__':\n",
    "\tmain()"
   ]
  },
  {
   "cell_type": "code",
   "execution_count": null,
   "metadata": {},
   "outputs": [],
   "source": []
  }
 ],
 "metadata": {
  "kernelspec": {
   "display_name": "Python 3",
   "language": "python",
   "name": "python3"
  },
  "language_info": {
   "codemirror_mode": {
    "name": "ipython",
    "version": 3
   },
   "file_extension": ".py",
   "mimetype": "text/x-python",
   "name": "python",
   "nbconvert_exporter": "python",
   "pygments_lexer": "ipython3",
   "version": "3.8.5"
  }
 },
 "nbformat": 4,
 "nbformat_minor": 4
}
