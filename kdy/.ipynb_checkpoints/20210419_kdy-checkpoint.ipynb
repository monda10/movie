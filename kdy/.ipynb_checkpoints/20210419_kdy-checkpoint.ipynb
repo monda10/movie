{
 "cells": [
  {
   "cell_type": "code",
   "execution_count": 61,
   "metadata": {},
   "outputs": [
    {
     "ename": "SyntaxError",
     "evalue": "invalid syntax (<ipython-input-61-48dfe23103dd>, line 29)",
     "output_type": "error",
     "traceback": [
      "\u001b[1;36m  File \u001b[1;32m\"<ipython-input-61-48dfe23103dd>\"\u001b[1;36m, line \u001b[1;32m29\u001b[0m\n\u001b[1;33m    if '2019' in data\u001b[0m\n\u001b[1;37m                     ^\u001b[0m\n\u001b[1;31mSyntaxError\u001b[0m\u001b[1;31m:\u001b[0m invalid syntax\n"
     ]
    }
   ],
   "source": [
    "# csv 파일 로드\n",
    "import csv\n",
    "file=open('Data_List_A3.csv',encoding='cp949') # 변수명=open(파일 경로,encoding 작업)\n",
    "data = csv.reader(file)\n",
    "header=next(data)\n",
    "#-----------------------------------\n",
    "\n",
    "\n",
    "\n",
    "# Data_list_years=[]\n",
    "# Data_list_count=[]\n",
    "# count=0\n",
    "# for i in data:\n",
    "#     if count>4:\n",
    "#         Data_list_years.append(i[2])\n",
    "#         Data_list_count.append(i[11])\n",
    "#     count+=1\n",
    "\n",
    "\n",
    "# file.close()\n",
    "\n",
    "# Data_list=dict(zip(Data_list_years,Data_list_count))\n",
    "\n",
    "# Data_list_sort=sorted(Data_list.items())\n",
    "# print(Data_list_sort)\n",
    "\n",
    "Data_list_001=[]\n",
    "for i in data:\n",
    "    if '2019' in data\n",
    "        Data_list_001.append(i)\n",
    "\n",
    "        \n",
    "print(Data_list_001)\n",
    "\n",
    "\n",
    "\n",
    "\n"
   ]
  },
  {
   "cell_type": "code",
   "execution_count": null,
   "metadata": {},
   "outputs": [],
   "source": []
  }
 ],
 "metadata": {
  "kernelspec": {
   "display_name": "Python 3",
   "language": "python",
   "name": "python3"
  },
  "language_info": {
   "codemirror_mode": {
    "name": "ipython",
    "version": 3
   },
   "file_extension": ".py",
   "mimetype": "text/x-python",
   "name": "python",
   "nbconvert_exporter": "python",
   "pygments_lexer": "ipython3",
   "version": "3.8.5"
  }
 },
 "nbformat": 4,
 "nbformat_minor": 4
}
