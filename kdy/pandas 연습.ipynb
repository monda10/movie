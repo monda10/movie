{
 "cells": [
  {
   "cell_type": "code",
   "execution_count": 34,
   "metadata": {},
   "outputs": [
    {
     "name": "stdout",
     "output_type": "stream",
     "text": [
      "[7, 3, 1, 1, 1, 0, 2, 0, 0, 0]\n"
     ]
    }
   ],
   "source": [
    "import pandas as pd\n",
    "\n",
    "column_name=['순위','영화명','개봉일','매출액','(S:관객서울기준)','관객수','(S:스크린서울기준)','스크린수','대표국적','국적','배급사','장르']\n",
    "df=pd.read_csv('Data_List_A3.csv',encoding='cp949',header=5,names=column_name)\n",
    "#df['개봉일'] = pd.to_datetime(df['개봉일'],format='%Y-%m-%d')\n",
    "\n",
    "df002=df.loc[:,['영화명','개봉일','관객수','장르']]\n",
    "\n",
    "\n",
    "#target_year2015 = 2015 # 2015년\n",
    "#target_year2016 = 2016 \n",
    "#df2015=df002.query('개봉일.dt.year == @target_year2015')\n",
    "#df2016=df002.query('개봉일.dt.year == @target_year2016')\n",
    "\n",
    "dflist=df002['장르'].tolist() \n",
    "df3list=df002[df002['개봉일'].str.contains('2015')]['장르'].tolist()\n",
    "df2list=df002[df002['개봉일'] == '2015']['장르'].tolist()\n",
    "\n",
    "Genre_List=['액션','드라마','코미디','어린이','스릴러','판타지','SF','모험','뮤지컬','전쟁']\n",
    "\n",
    "GenreCount_list=[]\n",
    "for genre in Genre_List:\n",
    "    df003=df002[df002['개봉일'].str.contains('2015')]\n",
    "    \n",
    "    GenreCount=len(df003[df003['장르']==genre])\n",
    "    GenreCount_list.append(GenreCount)\n",
    "    \n",
    "print(GenreCount_list)"
   ]
  },
  {
   "cell_type": "code",
   "execution_count": null,
   "metadata": {},
   "outputs": [],
   "source": [
    "def Bar_Graph1(category_names,results):\n",
    "    \n",
    "    plt.rcParams[\"font.family\"] = 'NanumGothic'\n",
    "\n",
    "    labels = list(results.keys())\n",
    "    data = np.array(list(results.values()))\n",
    "    data_cum = data.cumsum(axis=1)\n",
    "    category_colors = plt.get_cmap('Spectral_r')(np.linspace(0.9, 0.1, data.shape[1])) # RdYlGn  0.15, 0.85\n",
    "\n",
    "    fig, ax = plt.subplots(figsize=(12.8,5))    # 9.2:5\n",
    "    ax.invert_yaxis()\n",
    "    ax.xaxis.set_visible(False)\n",
    "    ax.set_xlim(0, np.sum(data, axis=1).max())\n",
    "\n",
    "    for i, (colname, color) in enumerate(zip(category_names, category_colors)):\n",
    "        widths = data[:, i]\n",
    "        starts = data_cum[:, i] - widths\n",
    "        ax.barh(labels, widths, left=starts, height=0.5,label=colname, color=color)\n",
    "        xcenters = starts + widths / 2\n",
    "\n",
    "        r, g, b, _ = color\n",
    "        text_color = 'black'# if r * g * b < 0.3 else 'black'\n",
    "        box1 = {'boxstyle': 'round','ec': (1.0, 0.5, 0.5),'fc': 'white'}\n",
    "        for y, (x, c) in enumerate(zip(xcenters, widths)):\n",
    "              if c > 0: \n",
    "                    ax.text(x, y, str(int(c)), ha='center', va='center',color=text_color,bbox=box1)\n",
    "    ax.legend(ncol=len(category_names), bbox_to_anchor=(0, 1),loc='lower left', fontsize=10)\n",
    "    #xx-small, x-small, small, medium, large, x-large, xx-large, larger, smaller, None\n",
    "\n",
    "    plt.savefig('ex_barvplot.png', format='png', dpi=300)\n",
    "    return fig, ax"
   ]
  },
  {
   "cell_type": "code",
   "execution_count": null,
   "metadata": {},
   "outputs": [],
   "source": [
    "# !pip install pandas\n",
    "# !pip install openpyxl\n",
    "# !pip install xlrd\n",
    "\n",
    "# df2015.to_excel('excel저장2015.xlsx',index=False)"
   ]
  }
 ],
 "metadata": {
  "kernelspec": {
   "display_name": "Python 3",
   "language": "python",
   "name": "python3"
  },
  "language_info": {
   "codemirror_mode": {
    "name": "ipython",
    "version": 3
   },
   "file_extension": ".py",
   "mimetype": "text/x-python",
   "name": "python",
   "nbconvert_exporter": "python",
   "pygments_lexer": "ipython3",
   "version": "3.8.5"
  }
 },
 "nbformat": 4,
 "nbformat_minor": 4
}
